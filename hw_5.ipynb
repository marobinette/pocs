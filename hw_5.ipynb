{
 "cells": [
  {
   "cell_type": "code",
   "execution_count": 12,
   "metadata": {},
   "outputs": [],
   "source": [
    "import pandas as pd\n",
    "import os\n",
    "\n",
    "def read_and_write_babyname_dat(fname, gender):\n",
    "    d = pd.read_csv(fname, header=None, names=[\"types\", \"gender\", \"counts\"], dtype={\"types\": str, \"counts\": int})\n",
    "    d = d[d['gender'] == gender]\n",
    "    d['probs'] = d['counts'] / d['counts'].sum()\n",
    "    d['total_unique'] = len(d)\n",
    "    year = int(os.path.basename(fname)[-8:-4])\n",
    "    d['year'] = year\n",
    "\n",
    "    return d\n",
    "\n",
    "folder_path = \"data\"\n",
    "boys_dataframes = []\n",
    "girls_dataframes = []\n",
    "\n",
    "for filename in os.listdir(folder_path):\n",
    "    if filename.startswith(\"names-boys\") and filename.endswith(\".txt\"):\n",
    "        df = read_and_write_babyname_dat(os.path.join(folder_path, filename), \"M\")\n",
    "        boys_dataframes.append(df)\n",
    "\n",
    "    if filename.startswith(\"names-girls\") and filename.endswith(\".txt\"):\n",
    "        df = read_and_write_babyname_dat(os.path.join(folder_path, filename), \"F\")\n",
    "        girls_dataframes.append(df)\n",
    "\n",
    "boys_df = pd.concat(boys_dataframes, ignore_index=True) if boys_dataframes else pd.DataFrame(columns=['types', 'counts', 'probs', 'total_unique'])\n",
    "girls_df = pd.concat(girls_dataframes, ignore_index=True) if girls_dataframes else pd.DataFrame(columns=['types', 'counts', 'probs', 'total_unique'])\n",
    "\n",
    "boys_2023_df = boys_df[boys_df['year'] == 2023].drop(['year'], axis=1)\n",
    "boys_2022_df = boys_df[boys_df['year'] == 2022].drop(['year'], axis=1)\n",
    "\n",
    "boys_2023_df.to_csv('boys_2023_df.csv', index=False)  \n",
    "boys_2022_df.to_csv('boys_2022_df.csv', index=False)\n"
   ]
  }
 ],
 "metadata": {
  "kernelspec": {
   "display_name": "hw4",
   "language": "python",
   "name": "python3"
  },
  "language_info": {
   "codemirror_mode": {
    "name": "ipython",
    "version": 3
   },
   "file_extension": ".py",
   "mimetype": "text/x-python",
   "name": "python",
   "nbconvert_exporter": "python",
   "pygments_lexer": "ipython3",
   "version": "3.12.6"
  }
 },
 "nbformat": 4,
 "nbformat_minor": 2
}
